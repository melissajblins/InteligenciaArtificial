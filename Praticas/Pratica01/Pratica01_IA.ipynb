{
  "nbformat": 4,
  "nbformat_minor": 0,
  "metadata": {
    "colab": {
      "name": "Pratica1_IA.ipynb",
      "provenance": [],
      "collapsed_sections": []
    },
    "kernelspec": {
      "name": "python3",
      "display_name": "Python 3"
    },
    "language_info": {
      "name": "python"
    }
  },
  "cells": [
    {
      "cell_type": "markdown",
      "metadata": {
        "id": "SafwE3RSU00l"
      },
      "source": [
        "# Prática 1 - Inteligência Artificial\n",
        "\n",
        "\n",
        "1. Implementar o algoritmo A* para resolver o labirinto.\n",
        "2. Retornar os nós visistados e suas f's (h(n) + g(n)).\n",
        "3. Definir a Heurística (h(n)). \n",
        "\n",
        "---\n",
        "**Nome**: Melissa Junqueira de Barros Lins\n",
        "\n",
        "**RA**: 11201920583\n",
        "\n",
        "\n",
        "---\n",
        "*Links*\n",
        "\n",
        "**Medidas de distância**: https://mineracaodedados.wordpress.com/2012/02/27/medidas-de-distancia/\n",
        "\n",
        "\n",
        "\n",
        "\n"
      ]
    },
    {
      "cell_type": "markdown",
      "metadata": {
        "id": "Qpcv8MKmlYqZ"
      },
      "source": [
        "## Labirinto \n",
        "\n"
      ]
    },
    {
      "cell_type": "code",
      "metadata": {
        "colab": {
          "base_uri": "https://localhost:8080/"
        },
        "id": "LqeGlmobUzyo",
        "outputId": "99aa96eb-2707-4be5-b1b7-56c432775746"
      },
      "source": [
        "#Bibliotecas importadas\n",
        "from random import shuffle, randrange \n",
        "import queue\n",
        "import sys\n",
        "\n",
        "#Código\n",
        "def cria_labirinto(larg = 8, alt = 3):\n",
        "  vis = [[0] * larg + [1] for _ in range(alt)] + [[1] * (larg + 1)] \n",
        "  sem_muros = []\n",
        "\n",
        "  def quebra_muros(lin, col):\n",
        "    vis[lin][col] = 1\n",
        "    d = [(lin, col + 1), (lin, col - 1), (lin - 1, col), (lin + 1, col)]\n",
        "    shuffle(d)\n",
        "\n",
        "    for (l, c) in d:\n",
        "      if vis[l][c] != 1:\n",
        "        sem_muros.append((lin, col, l, c))\n",
        "        quebra_muros(l, c)\n",
        "\n",
        "  quebra_muros(randrange(alt), randrange(larg))\n",
        "  return(sem_muros)\n",
        "\n",
        "def desenha_labirinto(lab, larg = 8, alt = 3):\n",
        "  ver = [['|  '] * larg + ['|'] for _ in range(alt)] + [[]]\n",
        "  hor = [['+--'] * larg + ['+'] for _ in range(alt + 1)]\n",
        "  for (l1, c1, l2, c2) in lab:\n",
        "    if l1 == l2:\n",
        "      ver[l1][max(c1, c2)] = '   '\n",
        "    if c1 == c2:\n",
        "      hor[max(l1, l2)][c1] = '+  '\n",
        "  for (a, b) in zip(hor, ver):\n",
        "    print(''.join(a + ['\\n'] + b))\n",
        "\n",
        "labirinto = cria_labirinto()\n",
        "desenha_labirinto(labirinto)"
      ],
      "execution_count": 127,
      "outputs": [
        {
          "output_type": "stream",
          "name": "stdout",
          "text": [
            "+--+--+--+--+--+--+--+--+\n",
            "|           |        |  |\n",
            "+  +--+--+  +  +  +  +  +\n",
            "|  |     |  |  |  |     |\n",
            "+  +  +  +  +  +  +--+  +\n",
            "|     |  |     |     |  |\n",
            "+--+--+--+--+--+--+--+--+\n",
            "\n"
          ]
        }
      ]
    },
    {
      "cell_type": "markdown",
      "metadata": {
        "id": "Hlz85ddzmzr1"
      },
      "source": [
        "## Resolução"
      ]
    },
    {
      "cell_type": "markdown",
      "metadata": {
        "id": "_9obzia6aFc_"
      },
      "source": [
        "\n",
        "- Heurística (h(n)): Distância de Manhattan(City Block)\n",
        "\n",
        "\n"
      ]
    },
    {
      "cell_type": "code",
      "metadata": {
        "id": "WYGhbD6Bm24S"
      },
      "source": [
        "def calcula_heuristica(ponto_inicial, ponto_final):\n",
        "  (xi, yi) = ponto_inicial\n",
        "  (xf, yf) = ponto_final\n",
        "  return abs(xf - xi) + abs(yf - yi) "
      ],
      "execution_count": 128,
      "outputs": []
    },
    {
      "cell_type": "markdown",
      "metadata": {
        "id": "8DSp6hIzb8Ub"
      },
      "source": [
        "*   Código resposta\n",
        "\n",
        "\n"
      ]
    },
    {
      "cell_type": "code",
      "metadata": {
        "id": "DLNh0vm0cUw0"
      },
      "source": [
        "def teste_final(posicao,fim) -> bool:\n",
        "  return posicao == fim"
      ],
      "execution_count": 129,
      "outputs": []
    },
    {
      "cell_type": "code",
      "metadata": {
        "id": "OQNOCoNKcVUT"
      },
      "source": [
        "def calculaSucessores(labirinto,larg = 8,alt = 3):\n",
        "  moves = {}\n",
        "  for i in range(alt):\n",
        "    for j in range(larg):\n",
        "      moves[(i,j)] = []\n",
        "  for k in range(len(labirinto)):\n",
        "    x, y, neighborx, neighbory = labirinto[k]\n",
        "    position = (x, y)\n",
        "    neighbor = (neighborx, neighbory)\n",
        "    moves[position].append(neighbor)\n",
        "    moves[neighbor].append(position)\n",
        "  return moves"
      ],
      "execution_count": 130,
      "outputs": []
    },
    {
      "cell_type": "code",
      "metadata": {
        "colab": {
          "base_uri": "https://localhost:8080/"
        },
        "id": "8UiG4woacXFH",
        "outputId": "2014d360-ddb2-4096-e13d-cd03866ad69e"
      },
      "source": [
        "print(calculaSucessores(labirinto))"
      ],
      "execution_count": 131,
      "outputs": [
        {
          "output_type": "stream",
          "name": "stdout",
          "text": [
            "{(0, 0): [(0, 1), (1, 0)], (0, 1): [(0, 2), (0, 0)], (0, 2): [(0, 3), (0, 1)], (0, 3): [(1, 3), (0, 2)], (0, 4): [(0, 5), (1, 4)], (0, 5): [(1, 5), (0, 6), (0, 4)], (0, 6): [(0, 5), (1, 6)], (0, 7): [(1, 7)], (1, 0): [(0, 0), (2, 0)], (1, 1): [(2, 1), (1, 2)], (1, 2): [(1, 1), (2, 2)], (1, 3): [(2, 3), (0, 3)], (1, 4): [(0, 4), (2, 4)], (1, 5): [(2, 5), (0, 5)], (1, 6): [(0, 6), (1, 7)], (1, 7): [(1, 6), (0, 7), (2, 7)], (2, 0): [(1, 0), (2, 1)], (2, 1): [(2, 0), (1, 1)], (2, 2): [(1, 2)], (2, 3): [(2, 4), (1, 3)], (2, 4): [(1, 4), (2, 3)], (2, 5): [(2, 6), (1, 5)], (2, 6): [(2, 5)], (2, 7): [(1, 7)]}\n"
          ]
        }
      ]
    },
    {
      "cell_type": "code",
      "metadata": {
        "id": "nqbFBIwJcZGW"
      },
      "source": [
        "def a_estrela(labirinto,inicio,objetivo):\n",
        "  sucessores = calculaSucessores(labirinto)  \n",
        "  explorados = {inicio: calcula_heuristica(inicio,objetivo) + 1 }\n",
        "  fila = queue.LifoQueue()\n",
        "  percorre(sucessores, explorados, fila, inicio, objetivo)\n",
        "  \n",
        "  print()\n",
        "  print(\"=\" * 15)\n",
        "  print(f'  Nós Abertos  ')\n",
        "  print(\"=\" * 15)\n",
        "  for no in explorados:\n",
        "    print(f'{no} f(n): {explorados[no]}')\n",
        "  print(\"=\" * 15)\n",
        "  print()\n",
        "\n",
        "  caminho = queue.LifoQueue()\n",
        "  while not fila.empty():  \n",
        "    caminho.put(fila.get())\n",
        "\n",
        "  caminhoStr = \"\"\n",
        "  while not caminho.empty():  \n",
        "    caminhoStr += \" >> \" + str(caminho.get());\n",
        "\n",
        "  print('Menor Caminho: '+ caminhoStr)"
      ],
      "execution_count": 132,
      "outputs": []
    },
    {
      "cell_type": "code",
      "metadata": {
        "id": "TSTeRfuBcbMH"
      },
      "source": [
        "def percorre(sucessores, explorados, fila, atual, objetivo):\n",
        "  if(teste_final(atual, objetivo)):\n",
        "    fila.put(atual)\n",
        "    return\n",
        "  adjacentes = sucessores.get(atual)\n",
        "  print(f'Adjacentes de {atual}: {adjacentes}')\n",
        "  menorCusto = sys.maxsize\n",
        "  menorAdjacente = None\n",
        "  for adjacente in adjacentes:\n",
        "    if(adjacente in explorados):\n",
        "      continue\n",
        "    heuristica = calcula_heuristica(adjacente, objetivo)\n",
        "    custoAdjacente = heuristica + 1;\n",
        "    print(f'    Custo de {adjacente}: {custoAdjacente} ')\n",
        "    if(menorCusto > custoAdjacente):\n",
        "      menorCusto = custoAdjacente\n",
        "      menorAdjacente = adjacente;\n",
        "\n",
        "  if(menorAdjacente == None):\n",
        "    print(f'    O nó {atual} está sem saída.')      \n",
        "    percorre(sucessores, explorados, fila, fila.get(), objetivo)\n",
        "  else:\n",
        "    print(f'    Menor Custo: {menorAdjacente} = {menorCusto}')      \n",
        "    explorados[menorAdjacente] = custoAdjacente\n",
        "    fila.put(atual)\n",
        "    percorre(sucessores, explorados, fila, menorAdjacente, objetivo)\n",
        "    "
      ],
      "execution_count": 133,
      "outputs": []
    },
    {
      "cell_type": "code",
      "metadata": {
        "colab": {
          "base_uri": "https://localhost:8080/"
        },
        "id": "eyirqPWjce2r",
        "outputId": "835ad49a-2b9b-4f39-d565-d6a29acf1b2c"
      },
      "source": [
        "inicio = (0,0)\n",
        "objetivo = (2,7)\n",
        "a_estrela(labirinto, inicio, objetivo)"
      ],
      "execution_count": 134,
      "outputs": [
        {
          "output_type": "stream",
          "name": "stdout",
          "text": [
            "Adjacentes de (0, 0): [(0, 1), (1, 0)]\n",
            "    Custo de (0, 1): 9 \n",
            "    Custo de (1, 0): 9 \n",
            "    Menor Custo: (0, 1) = 9\n",
            "Adjacentes de (0, 1): [(0, 2), (0, 0)]\n",
            "    Custo de (0, 2): 8 \n",
            "    Menor Custo: (0, 2) = 8\n",
            "Adjacentes de (0, 2): [(0, 3), (0, 1)]\n",
            "    Custo de (0, 3): 7 \n",
            "    Menor Custo: (0, 3) = 7\n",
            "Adjacentes de (0, 3): [(1, 3), (0, 2)]\n",
            "    Custo de (1, 3): 6 \n",
            "    Menor Custo: (1, 3) = 6\n",
            "Adjacentes de (1, 3): [(2, 3), (0, 3)]\n",
            "    Custo de (2, 3): 5 \n",
            "    Menor Custo: (2, 3) = 5\n",
            "Adjacentes de (2, 3): [(2, 4), (1, 3)]\n",
            "    Custo de (2, 4): 4 \n",
            "    Menor Custo: (2, 4) = 4\n",
            "Adjacentes de (2, 4): [(1, 4), (2, 3)]\n",
            "    Custo de (1, 4): 5 \n",
            "    Menor Custo: (1, 4) = 5\n",
            "Adjacentes de (1, 4): [(0, 4), (2, 4)]\n",
            "    Custo de (0, 4): 6 \n",
            "    Menor Custo: (0, 4) = 6\n",
            "Adjacentes de (0, 4): [(0, 5), (1, 4)]\n",
            "    Custo de (0, 5): 5 \n",
            "    Menor Custo: (0, 5) = 5\n",
            "Adjacentes de (0, 5): [(1, 5), (0, 6), (0, 4)]\n",
            "    Custo de (1, 5): 4 \n",
            "    Custo de (0, 6): 4 \n",
            "    Menor Custo: (1, 5) = 4\n",
            "Adjacentes de (1, 5): [(2, 5), (0, 5)]\n",
            "    Custo de (2, 5): 3 \n",
            "    Menor Custo: (2, 5) = 3\n",
            "Adjacentes de (2, 5): [(2, 6), (1, 5)]\n",
            "    Custo de (2, 6): 2 \n",
            "    Menor Custo: (2, 6) = 2\n",
            "Adjacentes de (2, 6): [(2, 5)]\n",
            "    O nó (2, 6) está sem saída.\n",
            "Adjacentes de (2, 5): [(2, 6), (1, 5)]\n",
            "    O nó (2, 5) está sem saída.\n",
            "Adjacentes de (1, 5): [(2, 5), (0, 5)]\n",
            "    O nó (1, 5) está sem saída.\n",
            "Adjacentes de (0, 5): [(1, 5), (0, 6), (0, 4)]\n",
            "    Custo de (0, 6): 4 \n",
            "    Menor Custo: (0, 6) = 4\n",
            "Adjacentes de (0, 6): [(0, 5), (1, 6)]\n",
            "    Custo de (1, 6): 3 \n",
            "    Menor Custo: (1, 6) = 3\n",
            "Adjacentes de (1, 6): [(0, 6), (1, 7)]\n",
            "    Custo de (1, 7): 2 \n",
            "    Menor Custo: (1, 7) = 2\n",
            "Adjacentes de (1, 7): [(1, 6), (0, 7), (2, 7)]\n",
            "    Custo de (0, 7): 3 \n",
            "    Custo de (2, 7): 1 \n",
            "    Menor Custo: (2, 7) = 1\n",
            "\n",
            "===============\n",
            "  Nós Abertos  \n",
            "===============\n",
            "(0, 0) f(n): 10\n",
            "(0, 1) f(n): 9\n",
            "(0, 2) f(n): 8\n",
            "(0, 3) f(n): 7\n",
            "(1, 3) f(n): 6\n",
            "(2, 3) f(n): 5\n",
            "(2, 4) f(n): 4\n",
            "(1, 4) f(n): 5\n",
            "(0, 4) f(n): 6\n",
            "(0, 5) f(n): 5\n",
            "(1, 5) f(n): 4\n",
            "(2, 5) f(n): 3\n",
            "(2, 6) f(n): 2\n",
            "(0, 6) f(n): 4\n",
            "(1, 6) f(n): 3\n",
            "(1, 7) f(n): 2\n",
            "(2, 7) f(n): 1\n",
            "===============\n",
            "\n",
            "Menor Caminho:  >> (0, 0) >> (0, 1) >> (0, 2) >> (0, 3) >> (1, 3) >> (2, 3) >> (2, 4) >> (1, 4) >> (0, 4) >> (0, 5) >> (0, 6) >> (1, 6) >> (1, 7) >> (2, 7)\n"
          ]
        }
      ]
    }
  ]
}