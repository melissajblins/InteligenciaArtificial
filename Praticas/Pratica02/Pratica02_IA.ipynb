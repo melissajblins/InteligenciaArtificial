{
  "nbformat": 4,
  "nbformat_minor": 0,
  "metadata": {
    "colab": {
      "name": "Pratica2_IA.ipynb",
      "provenance": []
    },
    "kernelspec": {
      "name": "python3",
      "display_name": "Python 3"
    },
    "language_info": {
      "name": "python"
    }
  },
  "cells": [
    {
      "cell_type": "markdown",
      "metadata": {
        "id": "SafwE3RSU00l"
      },
      "source": [
        "# Prática 2 - Inteligência Artificial\n",
        "\n",
        "\n",
        "1. Definir IA x IA\n",
        "2. Definir IA x Humano\n",
        "3. Definir Max Alpha Beta\n",
        "4. Definir Min Alpha Beta\n",
        "\n",
        "---\n",
        "**Nome**: Melissa Junqueira de Barros Lins\n",
        "\n",
        "**RA**: 11201920583\n",
        "\n",
        "\n",
        "---\n",
        "*Links*\n",
        "\n",
        "**Alpha-Beta**: https://stackabuse.com/minimax-and-alpha-beta-pruning-in-python/\n",
        "\n",
        "\n",
        "\n"
      ]
    },
    {
      "cell_type": "markdown",
      "metadata": {
        "id": "kJoC2BNH339R"
      },
      "source": [
        "## Jogo da velha\n",
        "\n",
        "***Retorno da função acabou***\n",
        "*  x, se x ganhou.\n",
        "*  o, se o ganhou.\n",
        "* -, se empatou.\n",
        "* ' ', se ainda não acabou.\n",
        "\n",
        "***Retorno das funções jog_min e jog_max***\n",
        "* Uma tupla com os valores:\n",
        "    * 1º valor: Pontuação do estado\n",
        "    * 2º valor: Posição do 1º valor "
      ]
    },
    {
      "cell_type": "code",
      "metadata": {
        "id": "oZwP8Tre33Qc"
      },
      "source": [
        "#Código\n",
        "def iniciar():\n",
        "  return [[' '] * 3 for _ in range(3)]\n",
        "\n",
        "def desenhar(estado):\n",
        "  for i in range(3):\n",
        "    print('|', end = '')\n",
        "    for j in range(3):\n",
        "      print('{}|'.format(estado[i][j]), end ='')\n",
        "    print()\n",
        "  print()\n",
        "\n",
        "def acabou(estado):\n",
        "  #Checando vitorias horizontais e verticais\n",
        "  for i in range(3):\n",
        "    if estado[i] == ['x'] * 3:\n",
        "      return 'x'\n",
        "    if estado[i] == ['o'] * 3:\n",
        "      return 'o'\n",
        "    if estado[0][i] != ' ' and estado[0][i] == estado[1][i] and estado[1][i] == estado[2][i]:\n",
        "      return estado[0][i]\n",
        "    \n",
        "  #Checando a diagonal principal\n",
        "  if estado[0][0] != ' ' and estado[0][0] == estado[1][1] and estado[1][1] == estado[2][2]:\n",
        "    return estado[0][0]\n",
        "\n",
        "  #Checando a diagonal invertida\n",
        "  if estado[0][2] != ' ' and estado[0][2] == estado[1][1] and estado[1][1] == estado[2][0]:\n",
        "    return estado[0][2]\n",
        "\n",
        "  #Retornando se ainda não acabou\n",
        "  if ' ' in estado[0] + estado[1] + estado[2]:\n",
        "    return ' '\n",
        "\n",
        "  #Retornando o empate\n",
        "  return '-'\n",
        "\n",
        "def jog_max(estado):\n",
        "  final = acabou(estado)\n",
        "  if final == 'x':\n",
        "    return(1, (-1, -1))\n",
        "  if final == 'o':\n",
        "    return(-1, (-1, -1))\n",
        "  if final == '-':\n",
        "    return(0, (-1, -1))\n",
        "\n",
        "  maior = -2 \n",
        "  for i in range(3):\n",
        "    for j in range(3):\n",
        "      if estado[i][j] == ' ':\n",
        "        estado[i][j] = 'x'\n",
        "        (pontuacao, (jog_x, jog_y)) = jog_min(estado)\n",
        "        if pontuacao > maior:\n",
        "          maior = pontuacao\n",
        "          melhor_jogada = (i, j)\n",
        "        estado[i][j] = ' '\n",
        "\n",
        "  return(maior, melhor_jogada)\n",
        "\n",
        "def jog_min(estado):\n",
        "  final = acabou(estado)\n",
        "  if final == 'x':\n",
        "    return(1, (-1, -1))\n",
        "  if final == 'o':\n",
        "    return(-1, (-1, -1))\n",
        "  if final == '-':\n",
        "    return(0, (-1, -1))\n",
        "\n",
        "  menor = 2\n",
        "  for i in range(3):\n",
        "    for j in range(3):\n",
        "      if estado[i][j] == ' ':\n",
        "        estado[i][j] = 'o'\n",
        "        (pontuacao, (jog_x, jog_y)) = jog_max(estado)\n",
        "        if pontuacao < menor:\n",
        "          menor = pontuacao\n",
        "          melhor_jogada = (i, j)\n",
        "        estado[i][j] = ' '\n",
        "\n",
        "  return(menor, melhor_jogada)"
      ],
      "execution_count": 10,
      "outputs": []
    },
    {
      "cell_type": "markdown",
      "metadata": {
        "id": "iRsnggswS_U0"
      },
      "source": [
        "## Função IA x IA\n",
        "\n",
        "\n",
        "> O retorno sempre será 0(0,0) pois são dois jogadores perfeitos. Ou seja, para qualquer caso sempre dará empate.\n",
        "\n"
      ]
    },
    {
      "cell_type": "code",
      "metadata": {
        "colab": {
          "base_uri": "https://localhost:8080/"
        },
        "id": "SCC_YWB6S-sw",
        "outputId": "33e1767c-00a5-42d5-b9e5-ead3dc5ee32d"
      },
      "source": [
        "def jogar_ia_vs_ia():\n",
        "  estado = iniciar()\n",
        "  desenhar(estado)\n",
        "  #Exemplificando o empate\n",
        "  print(jog_max(estado), end = \"\\n\")\n",
        "  #IA x IA\n",
        "  flag = False\n",
        "  while (flag == False):\n",
        "      pontuacao, jogada_IA = jog_min(estado)\n",
        "      estado[jogada_IA[0]][jogada_IA[1]] = 'o'\n",
        "      desenhar(estado)\n",
        "      pontuacao, jogada_IA = jog_max(estado)\n",
        "      estado[jogada_IA[0]][jogada_IA[1]] = 'x'\n",
        "      desenhar(estado)\n",
        "      resultado_final = acabou(estado)\n",
        "      if (resultado_final != ' '):\n",
        "        flag = True\n",
        "  \n",
        "  print(\"=\" * 20)\n",
        "  print(\"  Resultado final  \")\n",
        "  print(\"=\" * 20)\n",
        "\n",
        "  desenhar(estado)\n",
        "  if (resultado_final == 'x'):\n",
        "    print(\"Max ganhou!\")\n",
        "  elif (resultado_final == 'o'):\n",
        "    print(\"Min ganhou!\")\n",
        "  else:\n",
        "    print(\"O jogo empatou!\")\n",
        "\n",
        "jogar_ia_vs_ia()"
      ],
      "execution_count": 11,
      "outputs": [
        {
          "output_type": "stream",
          "name": "stdout",
          "text": [
            "| | | |\n",
            "| | | |\n",
            "| | | |\n",
            "\n",
            "(0, (0, 0))\n",
            "|o| | |\n",
            "| | | |\n",
            "| | | |\n",
            "\n",
            "|o| | |\n",
            "| |x| |\n",
            "| | | |\n",
            "\n",
            "|o|o| |\n",
            "| |x| |\n",
            "| | | |\n",
            "\n",
            "|o|o|x|\n",
            "| |x| |\n",
            "| | | |\n",
            "\n",
            "|o|o|x|\n",
            "| |x| |\n",
            "|o| | |\n",
            "\n",
            "|o|o|x|\n",
            "|x|x| |\n",
            "|o| | |\n",
            "\n",
            "|o|o|x|\n",
            "|x|x|o|\n",
            "|o| | |\n",
            "\n",
            "|o|o|x|\n",
            "|x|x|o|\n",
            "|o|x| |\n",
            "\n",
            "|o|o|x|\n",
            "|x|x|o|\n",
            "|o|x|o|\n",
            "\n",
            "|o|o|x|\n",
            "|x|x|o|\n",
            "|o|x|x|\n",
            "\n",
            "====================\n",
            "  Resultado final  \n",
            "====================\n",
            "|o|o|x|\n",
            "|x|x|o|\n",
            "|o|x|x|\n",
            "\n",
            "O jogo empatou!\n"
          ]
        }
      ]
    },
    {
      "cell_type": "markdown",
      "metadata": {
        "id": "wrZO8DqTTR4J"
      },
      "source": [
        "## Função IA x Humano\n"
      ]
    },
    {
      "cell_type": "code",
      "metadata": {
        "colab": {
          "base_uri": "https://localhost:8080/"
        },
        "id": "xAXX14NbTWzq",
        "outputId": "d8a97a4b-0b7e-4d42-cec3-431521870a90"
      },
      "source": [
        "def jogar_ia_vs_humano():\n",
        "  estado = iniciar()\n",
        "  desenhar(estado)\n",
        "  flag = False\n",
        "  while (flag == False):\n",
        "      checa_jogada = False\n",
        "      while (checa_jogada == False):\n",
        "        jogada_linha = int(input(\"Digite a linha de sua jogada ([0-2]).\"))\n",
        "        jogada_coluna = int(input(\"Digite a coluna de sua jogada ([0-2]). \"))\n",
        "        if (jogada_linha >= 0 and jogada_linha <= 2) and (jogada_coluna >= 0 and jogada_coluna <= 2) and estado[jogada_linha][jogada_coluna] == ' ':\n",
        "          checa_jogada = True\n",
        "      estado[jogada_linha][jogada_coluna] = 'x'\n",
        "      desenhar(estado)\n",
        "      pontuacao, jogada_IA = jog_min(estado)\n",
        "      estado[jogada_IA[0]][jogada_IA[1]] = 'o'\n",
        "      desenhar(estado)\n",
        "      resultado_final = acabou(estado)\n",
        "      if (resultado_final != ' '):\n",
        "        flag = True\n",
        "  \n",
        "  print(\"=\" * 20)\n",
        "  print(\"  Resultado final  \")\n",
        "  print(\"=\" * 20)\n",
        "\n",
        "  desenhar(estado)\n",
        "  if (resultado_final == 'x'):\n",
        "    print(\"Você ganhou!\")\n",
        "  elif (resultado_final == 'o'):\n",
        "    print(\"Você perdeu!\")\n",
        "  else:\n",
        "    print(\"O jogo empatou!\")\n",
        "\n",
        "jogar_ia_vs_humano()"
      ],
      "execution_count": 12,
      "outputs": [
        {
          "output_type": "stream",
          "name": "stdout",
          "text": [
            "| | | |\n",
            "| | | |\n",
            "| | | |\n",
            "\n",
            "Digite a linha de sua jogada ([0-2]).3\n",
            "Digite a coluna de sua jogada ([0-2]). 4\n",
            "Digite a linha de sua jogada ([0-2]).0\n",
            "Digite a coluna de sua jogada ([0-2]). 2\n",
            "| | |x|\n",
            "| | | |\n",
            "| | | |\n",
            "\n",
            "| | |x|\n",
            "| |o| |\n",
            "| | | |\n",
            "\n",
            "Digite a linha de sua jogada ([0-2]).2\n",
            "Digite a coluna de sua jogada ([0-2]). 2\n",
            "| | |x|\n",
            "| |o| |\n",
            "| | |x|\n",
            "\n",
            "| | |x|\n",
            "| |o|o|\n",
            "| | |x|\n",
            "\n",
            "Digite a linha de sua jogada ([0-2]).1\n",
            "Digite a coluna de sua jogada ([0-2]). 0\n",
            "| | |x|\n",
            "|x|o|o|\n",
            "| | |x|\n",
            "\n",
            "|o| |x|\n",
            "|x|o|o|\n",
            "| | |x|\n",
            "\n",
            "Digite a linha de sua jogada ([0-2]).2\n",
            "Digite a coluna de sua jogada ([0-2]). 0\n",
            "|o| |x|\n",
            "|x|o|o|\n",
            "|x| |x|\n",
            "\n",
            "|o| |x|\n",
            "|x|o|o|\n",
            "|x|o|x|\n",
            "\n",
            "Digite a linha de sua jogada ([0-2]).0\n",
            "Digite a coluna de sua jogada ([0-2]). 0\n",
            "Digite a linha de sua jogada ([0-2]).0\n",
            "Digite a coluna de sua jogada ([0-2]). 1\n",
            "|o|x|x|\n",
            "|x|o|o|\n",
            "|x|o|x|\n",
            "\n",
            "|o|x|x|\n",
            "|x|o|o|\n",
            "|x|o|o|\n",
            "\n",
            "====================\n",
            "  Resultado final  \n",
            "====================\n",
            "|o|x|x|\n",
            "|x|o|o|\n",
            "|x|o|o|\n",
            "\n",
            "Você perdeu!\n"
          ]
        }
      ]
    },
    {
      "cell_type": "markdown",
      "metadata": {
        "id": "cymIB3d9B_5L"
      },
      "source": [
        "## Alpha Beta\n",
        "Alfa-beta é na verdade um minimax aprimorado usando uma **heurística**. Ele para de avaliar um movimento quando se certifica de que ele é pior do que o movimento examinado anteriormente.\n",
        "\n",
        "\n",
        "> Alpha: Melhor opção já explorada para o jogador Max.\n",
        "\n",
        "> Beta: Melhor opção já explorada para o jogador Min.\n"
      ]
    },
    {
      "cell_type": "markdown",
      "metadata": {
        "id": "XT7tfERkTZJz"
      },
      "source": [
        "### Função Max Alpha Beta"
      ]
    },
    {
      "cell_type": "code",
      "metadata": {
        "id": "ou7IDxv5TdVS"
      },
      "source": [
        "def jog_max_alpha_beta(estado, alpha = -2, beta = 2):\n",
        "  final = acabou(estado)\n",
        "  if final == 'x':\n",
        "    return(1, (-1, -1))\n",
        "  if final == 'o':\n",
        "    return(-1, (-1, -1))\n",
        "  if final == '-':\n",
        "    return(0, (-1, -1))\n",
        "\n",
        "  maior = -2 \n",
        "  \n",
        "  for i in range(3):\n",
        "    for j in range(3):\n",
        "      if estado[i][j] == ' ':\n",
        "        estado[i][j] = 'x'\n",
        "        (pontuacao, (jog_x, jog_y)) = jog_min_alpha_beta(estado, alpha, beta)\n",
        "        if pontuacao > maior:\n",
        "          maior = pontuacao\n",
        "          melhor_jogada = (i, j)\n",
        "        estado[i][j] = ' '\n",
        "        if (maior >= beta):\n",
        "          return (maior, melhor_jogada)\n",
        "        if (maior > alpha):\n",
        "          alpha = maior\n",
        "\n",
        "  return(maior, melhor_jogada)"
      ],
      "execution_count": 13,
      "outputs": []
    },
    {
      "cell_type": "markdown",
      "metadata": {
        "id": "pkukgyYSTfqi"
      },
      "source": [
        "### Função Min Alpha Beta"
      ]
    },
    {
      "cell_type": "code",
      "metadata": {
        "id": "rknuM9y-Tilr"
      },
      "source": [
        "def jog_min_alpha_beta(estado, alpha = -2, beta = 2):\n",
        "    final = acabou(estado)\n",
        "    if final == 'x':\n",
        "      return(1, (-1, -1))\n",
        "    if final == 'o':\n",
        "      return(-1, (-1, -1))\n",
        "    if final == '-':\n",
        "      return(0, (-1, -1))\n",
        "\n",
        "    menor = 2\n",
        "    for i in range(3):\n",
        "      for j in range(3):\n",
        "        if estado[i][j] == ' ':\n",
        "          estado[i][j] = 'o'\n",
        "          (pontuacao, (jog_x, jog_y)) = jog_max(estado)\n",
        "          if pontuacao < menor:\n",
        "            menor = pontuacao\n",
        "            melhor_jogada = (i, j)\n",
        "          estado[i][j] = ' '\n",
        "          if (menor <= alpha):\n",
        "            return (menor, melhor_jogada)\n",
        "          if (menor < beta):\n",
        "            beta = menor\n",
        "\n",
        "    return(menor, melhor_jogada)"
      ],
      "execution_count": 14,
      "outputs": []
    }
  ]
}