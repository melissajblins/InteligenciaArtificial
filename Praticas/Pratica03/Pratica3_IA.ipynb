{
  "nbformat": 4,
  "nbformat_minor": 0,
  "metadata": {
    "colab": {
      "name": "Pratica3_IA.ipynb",
      "provenance": [],
      "collapsed_sections": []
    },
    "kernelspec": {
      "name": "python3",
      "display_name": "Python 3"
    },
    "language_info": {
      "name": "python"
    }
  },
  "cells": [
    {
      "cell_type": "markdown",
      "source": [
        "# Prática 3 - Inteligência Artificial\n",
        "\n",
        "\n",
        "1. Variar parâmetros do problema\n",
        "2. Resolver com Simulated Annealing\n",
        "3. Resolver com PSO\n",
        "\n",
        "---\n",
        "**Nome**: Melissa Junqueira de Barros Lins\n",
        "\n",
        "**RA**: 11201920583\n",
        "\n",
        "---\n"
      ],
      "metadata": {
        "id": "pqnn8-ypT8Ju"
      }
    },
    {
      "cell_type": "code",
      "source": [
        "from random import shuffle, randrange\n",
        "\n",
        "def cria_labirinto(larg = 8, alt = 3):\n",
        "  vis = [[0] * larg + [1] for _ in range(alt)] + [[1] * (larg + 1)] \n",
        "  sem_muros = []\n",
        "\n",
        "  def quebra_muros(lin, col):\n",
        "    vis[lin][col] = 1\n",
        "    d = [(lin, col + 1), (lin, col - 1), (lin - 1, col), (lin + 1, col)]\n",
        "    shuffle(d)\n",
        "\n",
        "    for (l, c) in d:\n",
        "      if vis[l][c] != 1:\n",
        "        sem_muros.append((lin, col, l, c))\n",
        "        quebra_muros(l, c)\n",
        "\n",
        "  quebra_muros(randrange(alt), randrange(larg))\n",
        "  return(sem_muros)\n",
        "\n",
        "def desenha_labirinto(lab, larg = 8, alt = 3):\n",
        "  ver = [['|  '] * larg + ['|'] for _ in range(alt)] + [[]]\n",
        "  hor = [['+--'] * larg + ['+'] for _ in range(alt + 1)]\n",
        "\n",
        "  for (l1, c1, l2, c2) in lab:\n",
        "    if l1 == l2:\n",
        "      ver[l1][max(c1, c2)] = '   '\n",
        "    if c1 == c2:\n",
        "      hor[max(l1, l2)][c1] = '+  '\n",
        "\n",
        "  for (a, b) in zip(hor, ver):\n",
        "    print(''.join(a + ['\\n'] + b))"
      ],
      "metadata": {
        "id": "HuF779GpUOs5"
      },
      "execution_count": null,
      "outputs": []
    },
    {
      "cell_type": "code",
      "execution_count": null,
      "metadata": {
        "colab": {
          "base_uri": "https://localhost:8080/",
          "height": 567
        },
        "id": "OiJFn_EqTzHp",
        "outputId": "b62b6dc5-ab43-4b2a-d4e6-deefc7082026"
      },
      "outputs": [
        {
          "output_type": "stream",
          "name": "stdout",
          "text": [
            "Requirement already satisfied: geneticalgorithm in /usr/local/lib/python3.7/dist-packages (1.0.2)\n",
            "Requirement already satisfied: func-timeout in /usr/local/lib/python3.7/dist-packages (from geneticalgorithm) (4.3.5)\n",
            "Requirement already satisfied: numpy in /usr/local/lib/python3.7/dist-packages (from geneticalgorithm) (1.19.5)\n",
            "+--+--+--+\n",
            "|     |  |\n",
            "+--+  +  +\n",
            "|        |\n",
            "+--+--+--+\n",
            "\n",
            " The best solution found:\n",
            " [0. 1. 0. 0. 0. 1. 0. 1. 1. 1.]\n",
            "\n",
            " Objective function:\n",
            " 0\n"
          ]
        },
        {
          "output_type": "display_data",
          "data": {
            "image/png": "[encoded data removed]",
            "text/plain": [
              "<Figure size 432x288 with 1 Axes>"
            ]
          },
          "metadata": {
            "needs_background": "light"
          }
        },
        {
          "output_type": "stream",
          "name": "stdout",
          "text": [
            "\n",
            "Warning: GA is terminated due to the maximum number of iterations without improvement was met!"
          ]
        }
      ],
      "source": [
        "!pip install geneticalgorithm\n",
        "from geneticalgorithm import geneticalgorithm as ga\n",
        "import numpy as np\n",
        "\n",
        "larg = 3\n",
        "alt = 2\n",
        "inicio = (0, 0)\n",
        "obj = (alt - 1, larg - 1)\n",
        "\n",
        "sem_muros = cria_labirinto(larg, alt)\n",
        "desenha_labirinto(sem_muros, larg, alt)\n",
        "\n",
        "#Direções: (11, 00, 01, 10) -> (N, S, L, O)\n",
        "#Exemplo:\n",
        "#+--+--+--+\n",
        "#| i      |\n",
        "#+--+--+  +\n",
        "#|       o|\n",
        "#+--+--+--+\n",
        "#Solução: 010100\n",
        "\n",
        "#Exemplo:\n",
        "#+--+--+--+\n",
        "#| i      |\n",
        "#+--+--+  +\n",
        "#| o      |\n",
        "#+--+--+--+\n",
        "#Solução: 0101001010\n",
        "\n",
        "sol_tam = (larg * alt - 1) * 2\n",
        "\n",
        "def aptidao(solucao):\n",
        "  def calc_vizinho(pos, direcao):\n",
        "    if direcao == (1, 1):\n",
        "      return(pos[0] - 1, pos[1])\n",
        "    elif direcao == (0, 0):\n",
        "      return(pos[0] + 1, pos[1])\n",
        "    elif direcao == (0, 1):\n",
        "      return(pos[0], pos[1] + 1)\n",
        "    elif direcao == (1, 0):\n",
        "      return(pos[0], pos[1] - 1)\n",
        "\n",
        "  atual = inicio\n",
        "  i = 0\n",
        "  while i < (sol_tam - 1) and atual != obj:\n",
        "    direcao = (solucao[i], solucao[i + 1])\n",
        "    vizinho = calc_vizinho(atual, direcao)\n",
        "    if atual + vizinho in sem_muros or vizinho + atual in sem_muros:\n",
        "      atual = vizinho\n",
        "    i += 2\n",
        "\n",
        "  return(abs(atual[0] - obj[0]) + abs(atual[1] - obj[1]))\n",
        "\n",
        "#Exemplo:\n",
        "#+--+--+--+\n",
        "#| i      |\n",
        "#+  +--+  +\n",
        "#|  |    o|\n",
        "#+--+--+--+\n",
        "#Aptidao([0,1,0,0,1,1,0,0,1,0]) = 3\n",
        "\n",
        "\n",
        "#Documentação\n",
        "\"\"\"\n",
        "geneticalgorithm(function, dimension, variable_type='bool',  variable_boundaries=None, variable_type_mixed=None, function_timeout=10, \n",
        "algorithm_parameters={'max_num_iteration': None,'population_size':100, ' mutation_probability':0.1, 'elit_ratio': 0.01,\n",
        "'crossover_probability': 0.5,'parents_portion': 0.3, 'crossover_type':'uniform',b'max_iteration_without_improv':None},\n",
        "convergence_curve=True, progress_bar=True)\n",
        "\"\"\"\n",
        "\n",
        "parametros = {'max_num_iteration': 100,\n",
        " 'population_size':50,\n",
        " 'mutation_probability':0.01,\n",
        " 'elit_ratio': 0.1,\n",
        " 'crossover_probability': 0.5, \n",
        " 'parents_portion': 0.3, \n",
        " 'crossover_type':'one_point',\n",
        " 'max_iteration_without_improv': 10}\n",
        "\n",
        "exp = ga(aptidao, sol_tam, 'int', np.array([[0, 1]] * sol_tam), algorithm_parameters = parametros)\n",
        "\n",
        "exp.run()"
      ]
    },
    {
      "cell_type": "markdown",
      "source": [
        "## Alterando os parâmetros\n",
        "\n",
        "\n",
        "1. Altura: 2, Largura: 3, Número máximo de iterações: 50, Tamanho da população: 100\n",
        "2. Altura: 2, Largura: 3, Número máximo de iterações: 200, Tamanho da população: 200\n",
        "3. Altura: 5, Largura: 7, Número máximo de iterações: 50, Tamanho da população: 100\n",
        "4. Altura: 5, Largura: 7, Número máximo de iterações: 200, Tamanho da população: 200\n",
        "\n"
      ],
      "metadata": {
        "id": "rxd0aTvyRDnL"
      }
    },
    {
      "cell_type": "code",
      "source": [
        "# Teste 1\n",
        "parametros = {'max_num_iteration': 50,\n",
        " 'population_size':100,\n",
        " 'mutation_probability':0.01,\n",
        " 'elit_ratio': 0.1,\n",
        " 'crossover_probability': 0.5, \n",
        " 'parents_portion': 0.3, \n",
        " 'crossover_type':'one_point',\n",
        " 'max_iteration_without_improv': 10}\n",
        "\n",
        "exp = ga(aptidao, sol_tam, 'int', np.array([[0, 1]] * sol_tam), algorithm_parameters = parametros)\n",
        "\n",
        "exp.run()\n",
        "\n",
        "# Teste 2\n",
        "parametros = {'max_num_iteration': 200,\n",
        " 'population_size':200,\n",
        " 'mutation_probability':0.01,\n",
        " 'elit_ratio': 0.1,\n",
        " 'crossover_probability': 0.5, \n",
        " 'parents_portion': 0.3, \n",
        " 'crossover_type':'one_point',\n",
        " 'max_iteration_without_improv': 10}\n",
        "\n",
        "exp = ga(aptidao, sol_tam, 'int', np.array([[0, 1]] * sol_tam), algorithm_parameters = parametros)\n",
        "\n",
        "exp.run()\n",
        "\n",
        "# Teste 3\n",
        "larg = 7\n",
        "alt = 5\n",
        "\n",
        "parametros = {'max_num_iteration': 50,\n",
        " 'population_size':100,\n",
        " 'mutation_probability':0.01,\n",
        " 'elit_ratio': 0.1,\n",
        " 'crossover_probability': 0.5, \n",
        " 'parents_portion': 0.3, \n",
        " 'crossover_type':'one_point',\n",
        " 'max_iteration_without_improv': 10}\n",
        "\n",
        "exp = ga(aptidao, sol_tam, 'int', np.array([[0, 1]] * sol_tam), algorithm_parameters = parametros)\n",
        "\n",
        "exp.run()\n",
        "\n",
        "# Teste 4\n",
        "larg = 7\n",
        "alt = 5\n",
        "parametros = {'max_num_iteration': 200,\n",
        " 'population_size':200,\n",
        " 'mutation_probability':0.01,\n",
        " 'elit_ratio': 0.1,\n",
        " 'crossover_probability': 0.5, \n",
        " 'parents_portion': 0.3, \n",
        " 'crossover_type':'one_point',\n",
        " 'max_iteration_without_improv': 10}\n",
        "\n",
        "exp = ga(aptidao, sol_tam, 'int', np.array([[0, 1]] * sol_tam), algorithm_parameters = parametros)\n",
        "\n",
        "exp.run()"
      ],
      "metadata": {
        "colab": {
          "base_uri": "https://localhost:8080/",
          "height": 1000
        },
        "id": "Lb-zr1wlRBkY",
        "outputId": "bded6980-58da-41f1-a77f-bde46247a94f"
      },
      "execution_count": null,
      "outputs": [
        {
          "output_type": "stream",
          "name": "stdout",
          "text": [
            " The best solution found:\n",
            " [0. 1. 1. 1. 0. 0. 0. 1. 0. 1.]\n",
            "\n",
            " Objective function:\n",
            " 0.0\n"
          ]
        },
        {
          "output_type": "display_data",
          "data": {
            "image/png": "[encoded data removed]",
            "text/plain": [
              "<Figure size 432x288 with 1 Axes>"
            ]
          },
          "metadata": {
            "needs_background": "light"
          }
        },
        {
          "output_type": "stream",
          "name": "stdout",
          "text": [
            "\n",
            " The best solution found:\n",
            " [0. 1. 0. 1. 0. 0. 0. 1. 0. 1.]\n",
            "\n",
            " Objective function:\n",
            " 0.0\n"
          ]
        },
        {
          "output_type": "display_data",
          "data": {
            "image/png": "[encoded data removed]",
            "text/plain": [
              "<Figure size 432x288 with 1 Axes>"
            ]
          },
          "metadata": {
            "needs_background": "light"
          }
        },
        {
          "output_type": "stream",
          "name": "stdout",
          "text": [
            "\n",
            " The best solution found:\n",
            " [1. 1. 0. 1. 0. 0. 0. 1. 1. 1.]\n",
            "\n",
            " Objective function:\n",
            " 0.0\n"
          ]
        },
        {
          "output_type": "display_data",
          "data": {
            "image/png": "[encoded data removed]",
            "text/plain": [
              "<Figure size 432x288 with 1 Axes>"
            ]
          },
          "metadata": {
            "needs_background": "light"
          }
        },
        {
          "output_type": "stream",
          "name": "stdout",
          "text": [
            "\n",
            " The best solution found:\n",
            " [1. 0. 1. 1. 0. 1. 0. 0. 0. 1.]\n",
            "\n",
            " Objective function:\n",
            " 0.0\n"
          ]
        },
        {
          "output_type": "display_data",
          "data": {
            "image/png": "[encoded data removed]",
            "text/plain": [
              "<Figure size 432x288 with 1 Axes>"
            ]
          },
          "metadata": {
            "needs_background": "light"
          }
        },
        {
          "output_type": "stream",
          "name": "stdout",
          "text": [
            "\n",
            "Warning: GA is terminated due to the maximum number of iterations without improvement was met!"
          ]
        }
      ]
    }
  ]
}