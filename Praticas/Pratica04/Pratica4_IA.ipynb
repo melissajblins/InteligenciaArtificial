{
  "nbformat": 4,
  "nbformat_minor": 0,
  "metadata": {
    "colab": {
      "name": "Pratica4_IA.ipynb",
      "provenance": [],
      "collapsed_sections": []
    },
    "kernelspec": {
      "name": "python3",
      "display_name": "Python 3"
    },
    "language_info": {
      "name": "python"
    }
  },
  "cells": [
    {
      "cell_type": "markdown",
      "source": [
        "# Prática 4 - Inteligência Artificial\n",
        "\n",
        "\n",
        "1. Implementar o Naive Bayes Wrapper\n",
        "2. Testar com a Iris e alguma outra base de dados\n",
        "\n",
        "---\n",
        "**Nome**: Melissa Junqueira de Barros Lins\n",
        "\n",
        "**RA**: 11201920583\n",
        "\n",
        "---\n",
        "\n"
      ],
      "metadata": {
        "id": "Biy-Yb3pUpGJ"
      }
    },
    {
      "cell_type": "markdown",
      "source": [
        "## Código base"
      ],
      "metadata": {
        "id": "my06m9gOO9bo"
      }
    },
    {
      "cell_type": "code",
      "execution_count": 73,
      "metadata": {
        "colab": {
          "base_uri": "https://localhost:8080/"
        },
        "id": "ciwsYgTYUkwc",
        "outputId": "b6a259b7-1367-41dc-a9d6-0e576575f4f2"
      },
      "outputs": [
        {
          "output_type": "stream",
          "name": "stdout",
          "text": [
            "Acertou 44 de 45\n",
            "\n",
            "[[0.   0.   1.   2.  ]\n",
            " [0.   0.17 0.83 2.  ]\n",
            " [1.   0.   0.   0.  ]\n",
            " [0.   0.99 0.01 1.  ]\n",
            " [1.   0.   0.   0.  ]\n",
            " [1.   0.   0.   0.  ]\n",
            " [0.   1.   0.   1.  ]\n",
            " [0.   0.06 0.94 1.  ]\n",
            " [0.   0.75 0.25 1.  ]\n",
            " [0.   1.   0.   1.  ]\n",
            " [1.   0.   0.   0.  ]\n",
            " [0.   0.57 0.43 1.  ]\n",
            " [0.   0.   1.   2.  ]\n",
            " [0.   0.02 0.98 2.  ]\n",
            " [0.   0.9  0.1  1.  ]\n",
            " [1.   0.   0.   0.  ]\n",
            " [1.   0.   0.   0.  ]\n",
            " [1.   0.   0.   0.  ]\n",
            " [1.   0.   0.   0.  ]\n",
            " [1.   0.   0.   0.  ]\n",
            " [0.   0.   1.   2.  ]\n",
            " [1.   0.   0.   0.  ]\n",
            " [1.   0.   0.   0.  ]\n",
            " [1.   0.   0.   0.  ]\n",
            " [0.   1.   0.   1.  ]\n",
            " [0.   0.   1.   2.  ]\n",
            " [1.   0.   0.   0.  ]\n",
            " [0.   0.   1.   2.  ]\n",
            " [1.   0.   0.   0.  ]\n",
            " [1.   0.   0.   0.  ]\n",
            " [1.   0.   0.   0.  ]\n",
            " [0.   0.02 0.98 2.  ]\n",
            " [0.   1.   0.   1.  ]\n",
            " [0.   0.   1.   2.  ]\n",
            " [0.   0.   1.   2.  ]\n",
            " [0.   0.   1.   2.  ]\n",
            " [0.   1.   0.   1.  ]\n",
            " [0.   0.   1.   2.  ]\n",
            " [0.   0.   1.   2.  ]\n",
            " [0.   1.   0.   1.  ]\n",
            " [1.   0.   0.   0.  ]\n",
            " [1.   0.   0.   0.  ]\n",
            " [0.   0.99 0.01 1.  ]\n",
            " [0.   1.   0.   1.  ]\n",
            " [1.   0.   0.   0.  ]]\n",
            "\n",
            "\n",
            "[2 1 0 1 0 0 1 2 2 0 1 1 2 1 2 0 0 0 0 1 2 0 0 0 1 1 0 2 1 1 0 1 1 2 2 2 1\n",
            " 2 2 1 0 1 1 1 0]\n",
            "\n",
            "Acertou 32 de 45\n"
          ]
        }
      ],
      "source": [
        "#Importando bibliotecas\n",
        "import numpy as np\n",
        "from sklearn.datasets import load_iris\n",
        "from sklearn.naive_bayes import GaussianNB\n",
        "from sklearn.model_selection import train_test_split\n",
        "\n",
        "X, y = load_iris(return_X_y = True)\n",
        "X_train, X_test, y_train, y_test = train_test_split(X, y, test_size = 0.3)\n",
        "\n",
        "exp = GaussianNB()\n",
        "exp.fit(X_train, y_train)\n",
        "y_pred = exp.predict(X_test)\n",
        "print(\"Acertou {} de {}\\n\".format((y_pred == y_test).sum(), X_test.shape[0]))\n",
        "\n",
        "#Mostrando as probabilidades de predição junto com as classes corretas\n",
        "class_prob = np.round(exp.predict_proba(X_test),2)\n",
        "print((np.column_stack((class_prob, y_test))))\n",
        "\n",
        "#Gerando  NB com apenas a 1ª característica\n",
        "#O reshape é necessário para transformar o vetor em uma matriz de 1 coluna\n",
        "exp = exp.fit(X_train[:,0].reshape(-1, 1), y_train)\n",
        "y_pred = exp.predict(X_test[:,0].reshape(-1,1))\n",
        "print(\"\\n\")\n",
        "print(y_pred)\n",
        "print(\"\\nAcertou {} de {}\".format((y_pred == y_test).sum(), X_test.shape[0]))"
      ]
    },
    {
      "cell_type": "markdown",
      "source": [
        "## Testes com numpy\n",
        "\n",
        "```\n",
        "#Criando uma matriz de 2 linhas e 3 colunas\n",
        "mat = np.array([[1, 2, 3], [4, 5, 6]])\n",
        "\n",
        "#Acessando apenas 1 linha da matriz\n",
        "mat[1,:]\n",
        "\n",
        "#Acessando apenas 1 coluna da matriz\n",
        "mat[:,1]\n",
        "\n",
        "#Transpondo a matriz\n",
        "mat.transpose()\n",
        "\n",
        "#Contatenando uma coluna à matriz\n",
        "col = [7, 8]\n",
        "np.column_stack(mat, col)\n",
        "\n",
        "#Concatenando uma linha à matriz\n",
        "row = [7, 8, 9]\n",
        "np.row_stack((mat, row))\n",
        "\n",
        "#Acessando o nro de linhas e colunas da matriz\n",
        "mat.shape\n",
        "  \n",
        "  ```\n",
        "\n",
        "\n",
        "\n"
      ],
      "metadata": {
        "id": "VXwL-IpHODfO"
      }
    },
    {
      "cell_type": "markdown",
      "source": [
        "## Implementando Naive Bayes Wrapper com Iris Database"
      ],
      "metadata": {
        "id": "ooUSogUYPChs"
      }
    },
    {
      "cell_type": "code",
      "source": [
        "#Carregando Iris e distribuindo treino-teste\n",
        "X, y = load_iris(return_X_y = True)\n",
        "X_train, X_test, y_train, y_test = train_test_split(X, y, test_size = 0.3)\n",
        "exp = GaussianNB()\n",
        "\n",
        "#Calculando os acertos\n",
        "print(\"=== Teste 1 ===\")\n",
        "for i in range(4):\n",
        "  print(\"{}ª Característica\".format(i+1))\n",
        "  exp = exp.fit(X_train[:,i].reshape(-1, 1), y_train)\n",
        "  y_pred = exp.predict(X_test[:,i].reshape(-1,1))\n",
        "  acertos = (y_pred == y_test).sum()\n",
        "  print(\"Acertou {} de {}\\n\".format(acertos, X_test.shape[0]))\n",
        "  vetor_acertos_vs4.append(acertos)\n",
        "  if i == 0:\n",
        "    maior = acertos\n",
        "    indexmaior = i\n",
        "  elif acertos > maior:\n",
        "    maior = acertos\n",
        "    indexmaior = i\n",
        "\n",
        "#Criando as matrizes e calculando os acertos\n",
        "print(\"=== Teste 2 ===\")\n",
        "contador_testes = 0\n",
        "for i in range(4):\n",
        "  if i != indexmaior:\n",
        "    treino = np.column_stack((X_train[:,indexmaior].reshape(-1, 1), X_train[:,i].reshape(-1, 1)))\n",
        "    teste = np.column_stack((X_test[:,indexmaior].reshape(-1, 1), X_test[:,i].reshape(-1, 1)))\n",
        "    print(\"{}ª e {}ª Características\".format(indexmaior + 1, i + 1))\n",
        "    exp = exp.fit(treino, y_train)\n",
        "    y_pred = exp.predict(teste)\n",
        "    acertos = (y_pred == y_test).sum()\n",
        "    print(\"Acertou {} de {}\\n\".format(acertos, X_test.shape[0]))\n",
        "    if contador_testes == 0:\n",
        "      maior = acertos\n",
        "      indexintermediario = i\n",
        "    elif acertos > maior:\n",
        "      maior = acertos\n",
        "      indexintermediario = i\n",
        "    contador_testes = contador_testes + 1\n",
        "\n",
        "#Criando as matrizes e calculando os acertos\n",
        "print(\"=== Teste 3 ===\")\n",
        "contador_testes = 0\n",
        "for i in range(4):\n",
        "  if i != indexmaior and i != indexintermediario:\n",
        "    treino = np.column_stack((X_train[:,indexmaior].reshape(-1, 1), X_train[:,indexintermediario].reshape(-1, 1), X_train[:,i].reshape(-1, 1)))\n",
        "    teste = np.column_stack((X_test[:,indexmaior].reshape(-1, 1), X_test[:,indexintermediario].reshape(-1, 1), X_test[:,i].reshape(-1, 1)))\n",
        "    print(\"{}ª, {}ª e {}ª Características\".format(indexmaior + 1, indexintermediario + 1, i + 1))\n",
        "    exp = exp.fit(treino, y_train)\n",
        "    y_pred = exp.predict(teste)\n",
        "    acertos = (y_pred == y_test).sum()\n",
        "    print(\"Acertou {} de {}\\n\".format(acertos, X_test.shape[0]))\n",
        "    if contador_testes == 0:\n",
        "      maior = acertos\n",
        "      indexterceiro = i\n",
        "    elif acertos > maior:\n",
        "      maior = acertos\n",
        "      indexterceiro = i\n",
        "    contador_testes = contador_testes + 1\n",
        "\n",
        "#Criando as matrizes e calculando os acertos\n",
        "print(\"=== Teste 4 ===\")\n",
        "contador_testes = 0\n",
        "for i in range(4):\n",
        "  if i != indexmaior and i != indexintermediario and i != indexterceiro:\n",
        "    treino = np.column_stack((X_train[:,indexmaior].reshape(-1, 1), X_train[:,indexintermediario].reshape(-1, 1), X_train[:,indexterceiro].reshape(-1, 1), X_train[:,i].reshape(-1, 1) ))\n",
        "    teste = np.column_stack((X_test[:,indexmaior].reshape(-1, 1), X_test[:,indexintermediario].reshape(-1, 1), X_test[:,indexterceiro].reshape(-1, 1), X_test[:,i].reshape(-1, 1)))\n",
        "    print(\"{}ª, {}ª, {}ª e {}ª Características\".format(indexmaior + 1, indexintermediario + 1, indexterceiro + 1, i + 1))\n",
        "    exp = exp.fit(treino, y_train)\n",
        "    y_pred = exp.predict(teste)\n",
        "    acertos = (y_pred == y_test).sum()\n",
        "    print(\"Acertou {} de {}\\n\".format(acertos, X_test.shape[0]))"
      ],
      "metadata": {
        "colab": {
          "base_uri": "https://localhost:8080/"
        },
        "id": "o6nzDOw1vC_B",
        "outputId": "8591b5fe-0693-422e-fbb0-1c884b40462f"
      },
      "execution_count": 74,
      "outputs": [
        {
          "output_type": "stream",
          "name": "stdout",
          "text": [
            "=== Teste 1 ===\n",
            "1ª Característica\n",
            "Acertou 29 de 45\n",
            "\n",
            "2ª Característica\n",
            "Acertou 28 de 45\n",
            "\n",
            "3ª Característica\n",
            "Acertou 43 de 45\n",
            "\n",
            "4ª Característica\n",
            "Acertou 43 de 45\n",
            "\n",
            "=== Teste 2 ===\n",
            "3ª e 1ª Características\n",
            "Acertou 41 de 45\n",
            "\n",
            "3ª e 2ª Características\n",
            "Acertou 43 de 45\n",
            "\n",
            "3ª e 4ª Características\n",
            "Acertou 43 de 45\n",
            "\n",
            "=== Teste 3 ===\n",
            "3ª, 2ª e 1ª Características\n",
            "Acertou 41 de 45\n",
            "\n",
            "3ª, 2ª e 4ª Características\n",
            "Acertou 43 de 45\n",
            "\n",
            "=== Teste 4 ===\n",
            "3ª, 2ª, 4ª e 1ª Características\n",
            "Acertou 43 de 45\n",
            "\n"
          ]
        }
      ]
    },
    {
      "cell_type": "markdown",
      "source": [
        "### Anotações\n",
        "Percebemos que usando somente as duas características com mais acertos é possível obter uma grande taxa de acurácia final.\n",
        "\n",
        "\n"
      ],
      "metadata": {
        "id": "yVsyPh9yUltA"
      }
    }
  ]
}